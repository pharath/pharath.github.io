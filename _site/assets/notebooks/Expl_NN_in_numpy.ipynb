{
 "cells": [
  {
   "cell_type": "markdown",
   "metadata": {},
   "source": [
    "# Depth of ANN Definition"
   ]
  },
  {
   "cell_type": "markdown",
   "metadata": {},
   "source": [
    "> from: [[Source](https://datascience.stackexchange.com/questions/14027/counting-the-number-of-layers-in-a-neural-network)] \n",
    ">\n",
    "> Input layer is a layer, it's not wrong to say that.\n",
    "> \n",
    "> However, when calculating the depth of a deep neural network, we only consider the layers that have tunable weights.\n"
   ]
  },
  {
   "cell_type": "markdown",
   "metadata": {},
   "source": [
    "# UAT"
   ]
  },
  {
   "cell_type": "markdown",
   "metadata": {},
   "source": [
    "> A feedforward network with a single layer is sufficient to represent any function, but the layer may be infeasibly large and may fail to learn and generalize correctly.\n",
    "\n",
    "    — Ian Goodfellow, DLB"
   ]
  },
  {
   "cell_type": "markdown",
   "metadata": {},
   "source": [
    "# Online versus Batch learning"
   ]
  },
  {
   "cell_type": "markdown",
   "metadata": {},
   "source": [
    "![Hinton Online versus Batch learning zig zag constraints](https://slideplayer.com/slide/6097875/18/images/11/Online+versus+batch+learning.jpg)"
   ]
  },
  {
   "cell_type": "markdown",
   "metadata": {
    "toc-hr-collapsed": true,
    "toc-nb-collapsed": true
   },
   "source": [
    "# Erklärung zu NeuralNetwork in numpy"
   ]
  },
  {
   "cell_type": "code",
   "execution_count": 11,
   "metadata": {},
   "outputs": [],
   "source": [
    "import numpy as np"
   ]
  },
  {
   "cell_type": "code",
   "execution_count": 24,
   "metadata": {},
   "outputs": [],
   "source": [
    "# initialize weight matrices\n",
    "layer=[1,10,1]\n",
    "weight_L1zuL2=np.random.randn(layer[0+1],layer[0])\n",
    "weight_L2zuL3=np.random.randn(layer[1+1],layer[1])"
   ]
  },
  {
   "cell_type": "code",
   "execution_count": 35,
   "metadata": {},
   "outputs": [],
   "source": [
    "# construct weight tensor\n",
    "weights=[]\n",
    "weights.append(weight_L1zuL2)\n",
    "weights.append(weight_L2zuL3)"
   ]
  },
  {
   "cell_type": "code",
   "execution_count": 36,
   "metadata": {},
   "outputs": [
    {
     "data": {
      "text/plain": [
       "[array([[ 0.36230993],\n",
       "        [ 1.03101203],\n",
       "        [-1.42677305],\n",
       "        [-0.78497715],\n",
       "        [-0.77183381],\n",
       "        [-0.25876917],\n",
       "        [ 0.59590358],\n",
       "        [ 0.22608001],\n",
       "        [ 0.89552097],\n",
       "        [ 1.76104799]]),\n",
       " array([[ 0.18158636,  0.76247564,  0.03074861,  1.17271327,  0.24022962,\n",
       "          1.05575277, -0.48346829,  0.03496241,  1.36294595,  0.21159984]])]"
      ]
     },
     "execution_count": 36,
     "metadata": {},
     "output_type": "execute_result"
    }
   ],
   "source": [
    "# weight tensor\n",
    "weights"
   ]
  },
  {
   "cell_type": "code",
   "execution_count": 40,
   "metadata": {},
   "outputs": [
    {
     "data": {
      "text/plain": [
       "list"
      ]
     },
     "execution_count": 40,
     "metadata": {},
     "output_type": "execute_result"
    }
   ],
   "source": [
    "# weight tensor ist eine Liste und kein numpy array! (Eine Liste von numpy arrays sozusagen)\n",
    "type(weights)"
   ]
  },
  {
   "cell_type": "code",
   "execution_count": 41,
   "metadata": {},
   "outputs": [
    {
     "data": {
      "text/plain": [
       "numpy.ndarray"
      ]
     },
     "execution_count": 41,
     "metadata": {},
     "output_type": "execute_result"
    }
   ],
   "source": [
    "type(weights[0])"
   ]
  },
  {
   "cell_type": "code",
   "execution_count": 98,
   "metadata": {},
   "outputs": [
    {
     "data": {
      "text/plain": [
       "(10, 1)"
      ]
     },
     "execution_count": 98,
     "metadata": {},
     "output_type": "execute_result"
    }
   ],
   "source": [
    "weights[0].shape"
   ]
  },
  {
   "cell_type": "code",
   "execution_count": 57,
   "metadata": {},
   "outputs": [],
   "source": [
    "# training data\n",
    "X = 2*np.pi*np.random.rand(1000).reshape(1, -1)  # reshape column vector to row vector\n",
    "y = np.sin(X)"
   ]
  },
  {
   "cell_type": "markdown",
   "metadata": {},
   "source": [
    "`X` muss ein Zeilenvektor sein, weil `weights[0]` die Form `(10,1)` (i.e. Spaltenvektor) hat und das dot product `weights[0].dot(X)` sonst nicht das gewünschte dot product wäre (s.u. section 'Batch oder online learning')! "
   ]
  },
  {
   "cell_type": "code",
   "execution_count": 48,
   "metadata": {},
   "outputs": [
    {
     "name": "stdout",
     "output_type": "stream",
     "text": [
      "(1, 1000)\n",
      "(1000,)\n"
     ]
    }
   ],
   "source": [
    "# warum reshape ?\n",
    "print(X.shape)\n",
    "X_ohne_reshape = 2*np.pi*np.random.rand(1000)\n",
    "print(X_ohne_reshape.shape)"
   ]
  },
  {
   "cell_type": "code",
   "execution_count": 56,
   "metadata": {},
   "outputs": [
    {
     "data": {
      "text/plain": [
       "(1, 1000)"
      ]
     },
     "execution_count": 56,
     "metadata": {},
     "output_type": "execute_result"
    }
   ],
   "source": [
    "X_anderes_reshape = 2*np.pi*np.random.rand(1000).reshape((1, -1)) # Doppelte Klammer reshape((1,-1)) nicht nötig \n",
    "X_anderes_reshape.shape"
   ]
  },
  {
   "cell_type": "code",
   "execution_count": 55,
   "metadata": {},
   "outputs": [
    {
     "data": {
      "text/plain": [
       "array([[0, 1, 2, 3, 4],\n",
       "       [5, 6, 7, 8, 9]])"
      ]
     },
     "execution_count": 55,
     "metadata": {},
     "output_type": "execute_result"
    }
   ],
   "source": [
    "a=np.arange(10).reshape(2,5) # Doppelte Klammer reshape((2,5)) nicht nötig \n",
    "a"
   ]
  },
  {
   "cell_type": "markdown",
   "metadata": {},
   "source": [
    "## Batch oder Online learning ?\n",
    "\n",
    "**Weight updates are performed after each Mini-batch !** => **Minibatch algorithm**"
   ]
  },
  {
   "cell_type": "markdown",
   "metadata": {},
   "source": [
    "## Welche Dimension haben die pre-nonlinearity activations ?"
   ]
  },
  {
   "cell_type": "markdown",
   "metadata": {},
   "source": [
    "Wir wollen $$\\bf{W}\\cdot \\bf{X}_{Minibatch}=\\bf{Y}_{Minibatch}$$ berechnen, wobei $\\bf{X}_{Minibatch}$ die $1\\times $ `batch_size`-dimensionalen Trainingdaten sind und $\\bf{Y}_{Minibatch}$ die $10\\times $ `batch_size`-dimensionale Outputmatrix ist (die i-te Spalte von $\\bf{Y}_{Minibatch}$ ist der Output für einen forward pass mit input $\\bf{X}_i$, die i-te Komponente von $\\bf{X}_{Minibatch}$). Wir fassen also in jedem forward pass alle Outputs für `batch_size` Trainingspunkte in eine Matrix $\\bf{Y}_{Minibatch}$ zusammen und updaten die weights unter Benutzung von $\\bf{Y}_{Minibatch}$. "
   ]
  },
  {
   "cell_type": "markdown",
   "metadata": {},
   "source": [
    "## Matrixmultiplikation WX+b"
   ]
  },
  {
   "cell_type": "code",
   "execution_count": 59,
   "metadata": {},
   "outputs": [
    {
     "data": {
      "text/plain": [
       "array([[ 1.82218119,  1.68440298,  2.05690932, ...,  1.41028044,\n",
       "         0.6709957 ,  2.22184378],\n",
       "       [ 5.18531395,  4.79324358,  5.85327115, ...,  4.01318313,\n",
       "         1.90942776,  6.32261907],\n",
       "       [-7.17573216, -6.6331629 , -8.1000893 , ..., -5.55367091,\n",
       "        -2.64237466, -8.74959963],\n",
       "       ...,\n",
       "       [ 1.1370341 ,  1.05106103,  1.28350356, ...,  0.8800096 ,\n",
       "         0.41869875,  1.38642203],\n",
       "       [ 4.50388282,  4.16333661,  5.08406003, ...,  3.48578827,\n",
       "         1.65849917,  5.49172831],\n",
       "       [ 8.85691575,  8.18722934,  9.99783812, ...,  6.854826  ,\n",
       "         3.26144974, 10.79952053]])"
      ]
     },
     "execution_count": 59,
     "metadata": {},
     "output_type": "execute_result"
    }
   ],
   "source": [
    "# pre-nonlinearity activation of input layer\n",
    "weights[0].dot(X)"
   ]
  },
  {
   "cell_type": "code",
   "execution_count": 60,
   "metadata": {},
   "outputs": [
    {
     "data": {
      "text/plain": [
       "(10, 1000)"
      ]
     },
     "execution_count": 60,
     "metadata": {},
     "output_type": "execute_result"
    }
   ],
   "source": [
    "weights[0].dot(X).shape"
   ]
  },
  {
   "cell_type": "code",
   "execution_count": 62,
   "metadata": {},
   "outputs": [],
   "source": [
    "# construct biases\n",
    "b_1zu2 = np.random.randn(layer[1], 1)\n",
    "b_2zu3 = np.random.randn(layer[2], 1)\n",
    "b=[]\n",
    "b.append(b_1zu2)\n",
    "b.append(b_2zu3)"
   ]
  },
  {
   "cell_type": "code",
   "execution_count": 184,
   "metadata": {},
   "outputs": [
    {
     "data": {
      "text/plain": [
       "array([[6.91116328e-01, 8.75229958e-01, 7.62662213e-01, ...,\n",
       "        8.63748571e-01, 8.99121019e-01, 9.40039741e-01],\n",
       "       [3.22576044e-01, 9.24818897e-01, 5.71539702e-01, ...,\n",
       "        9.02174156e-01, 9.60501107e-01, 9.91823281e-01],\n",
       "       [1.31896437e-01, 1.68530677e-03, 3.52366203e-02, ...,\n",
       "        2.50874556e-03, 6.56981256e-04, 7.11140288e-05],\n",
       "       ...,\n",
       "       [2.94249264e-01, 4.59634882e-01, 3.43224816e-01, ...,\n",
       "        4.43990419e-01, 4.96905813e-01, 5.84195688e-01],\n",
       "       [3.56305623e-01, 9.03165533e-01, 5.75246252e-01, ...,\n",
       "        8.78966746e-01, 9.44002916e-01, 9.85524364e-01],\n",
       "       [6.13038739e-01, 9.97562114e-01, 9.01994421e-01, ...,\n",
       "        9.96018558e-01, 9.99237550e-01, 9.99950979e-01]])"
      ]
     },
     "execution_count": 184,
     "metadata": {},
     "output_type": "execute_result"
    }
   ],
   "source": [
    "# activation of input layer\n",
    "import NeuralNetwork\n",
    "activation_function1 = NeuralNetwork.NeuralNetwork.getActivationFunction('sigmoid')\n",
    "activation_function(weights[0].dot(X)+b[0])"
   ]
  },
  {
   "cell_type": "code",
   "execution_count": 185,
   "metadata": {},
   "outputs": [
    {
     "data": {
      "text/plain": [
       "(1, 1000)"
      ]
     },
     "execution_count": 185,
     "metadata": {},
     "output_type": "execute_result"
    }
   ],
   "source": [
    "# Compute activation of next layer (= first hidden layer) \n",
    "# which is also the final output of the first forward pass\n",
    "activation_function2 = NeuralNetwork.NeuralNetwork.getActivationFunction('linear')\n",
    "a_L1 = activation_function1(weights[0].dot(X)+b[0])\n",
    "a_L2 = activation_function2(weights[1].dot(a_L1)+b[1])\n",
    "a_L2.shape"
   ]
  },
  {
   "cell_type": "markdown",
   "metadata": {},
   "source": [
    "## How to implement Mini-batch ?"
   ]
  },
  {
   "cell_type": "code",
   "execution_count": 151,
   "metadata": {},
   "outputs": [],
   "source": [
    "def Train(x, y, batch_size=10, epochs=100, lr = 0.01):\n",
    "    i=0\n",
    "    while i<len(y[0]):\n",
    "        x_batch=x[0][i:i+batch_size].reshape(1,-1)\n",
    "        y_batch=y[0][i:i+batch_size].reshape(1,-1)\n",
    "        # for debug\n",
    "        if i<=5*batch_size: \n",
    "            print(x_batch.shape)\n",
    "        i+=batch_size"
   ]
  },
  {
   "cell_type": "code",
   "execution_count": 152,
   "metadata": {},
   "outputs": [
    {
     "name": "stdout",
     "output_type": "stream",
     "text": [
      "(1, 10)\n",
      "(1, 10)\n",
      "(1, 10)\n",
      "(1, 10)\n",
      "(1, 10)\n",
      "(1, 10)\n"
     ]
    }
   ],
   "source": [
    "Train(X,y)"
   ]
  },
  {
   "cell_type": "markdown",
   "metadata": {},
   "source": [
    "### What happens, if we define `some_list=[1,2,3]` and we call `some_list[0:100]` ?"
   ]
  },
  {
   "cell_type": "code",
   "execution_count": 150,
   "metadata": {},
   "outputs": [
    {
     "data": {
      "text/plain": [
       "[1, 2, 3]"
      ]
     },
     "execution_count": 150,
     "metadata": {},
     "output_type": "execute_result"
    }
   ],
   "source": [
    "a=[1,2,3]\n",
    "a[0:100]"
   ]
  },
  {
   "cell_type": "markdown",
   "metadata": {},
   "source": [
    "### What happens, if the used `batch_size` value is too large (i.e. larger than `len(X)`) ?"
   ]
  },
  {
   "cell_type": "code",
   "execution_count": 140,
   "metadata": {},
   "outputs": [
    {
     "data": {
      "text/plain": [
       "(1000,)"
      ]
     },
     "execution_count": 140,
     "metadata": {},
     "output_type": "execute_result"
    }
   ],
   "source": [
    "X[0].shape"
   ]
  },
  {
   "cell_type": "code",
   "execution_count": 139,
   "metadata": {},
   "outputs": [
    {
     "name": "stdout",
     "output_type": "stream",
     "text": [
      "(1, 50)\n"
     ]
    }
   ],
   "source": [
    "Train(X,y,batch_size=50)"
   ]
  },
  {
   "cell_type": "markdown",
   "metadata": {},
   "source": [
    "### Welche Form hat der Output von `.feedforward()`?"
   ]
  },
  {
   "cell_type": "code",
   "execution_count": 155,
   "metadata": {
    "collapsed": true,
    "jupyter": {
     "outputs_hidden": true
    }
   },
   "outputs": [
    {
     "name": "stderr",
     "output_type": "stream",
     "text": [
      "100%|██████████| 2000/2000 [00:06<00:00, 286.60it/s]\n"
     ]
    },
    {
     "name": "stdout",
     "output_type": "stream",
     "text": [
      "loss = 4.665356156175609\n"
     ]
    },
    {
     "data": {
      "image/png": "[encoded data removed]",
      "text/plain": [
       "<Figure size 432x288 with 1 Axes>"
      ]
     },
     "metadata": {
      "needs_background": "light"
     },
     "output_type": "display_data"
    }
   ],
   "source": [
    "import NeuralNetwork2\n",
    "import matplotlib.pyplot as plt\n",
    "nn = NeuralNetwork2.NeuralNetwork([1, 10, 10, 1],activations=['sigmoid', 'sigmoid', 'linear'])\n",
    "X = 2*np.pi*np.random.rand(1000).reshape(1, -1)\n",
    "y = np.sin(X)    \n",
    "\n",
    "nn.train(X, y, epochs=2000, batch_size=1000, lr = .5)\n",
    "_, a_s = nn.feedforward(X)\n",
    "#print(y, X)\n",
    "plt.scatter(X.flatten(), y.flatten())\n",
    "plt.scatter(X.flatten(), a_s[-1].flatten())\n",
    "plt.show()"
   ]
  },
  {
   "cell_type": "markdown",
   "metadata": {},
   "source": [
    "**Merke:** `.shape` ist für `np.arrays` und `len()` ist für **Listen** !"
   ]
  },
  {
   "cell_type": "markdown",
   "metadata": {},
   "source": [
    "**Merke**: Alle Objekte sind **Listen**, außer folgende **np.arrays**:\n",
    "- Input `X` und Mini-batches `x_batch`\n",
    "- Targets `y` und `y_batch`\n",
    "- pre- (`z_s`) und post-nonlinearity activations (`a_s`)"
   ]
  },
  {
   "cell_type": "code",
   "execution_count": 170,
   "metadata": {},
   "outputs": [
    {
     "data": {
      "text/plain": [
       "2"
      ]
     },
     "execution_count": 170,
     "metadata": {},
     "output_type": "execute_result"
    }
   ],
   "source": [
    "# gibt eine Liste mit 2 Listen (z_s und a_s) zurück\n",
    "len(NeuralNetwork.NeuralNetwork.feedforward(nn,X)) "
   ]
  },
  {
   "cell_type": "code",
   "execution_count": 164,
   "metadata": {},
   "outputs": [],
   "source": [
    "z_s, a_s = NeuralNetwork.NeuralNetwork.feedforward(nn,X)"
   ]
  },
  {
   "cell_type": "code",
   "execution_count": 169,
   "metadata": {},
   "outputs": [
    {
     "data": {
      "text/plain": [
       "3"
      ]
     },
     "execution_count": 169,
     "metadata": {},
     "output_type": "execute_result"
    }
   ],
   "source": [
    "# gibt eine Liste mit 3 np.arrays (die pre-nonlinearity activations\n",
    "# für jeden Layer) zurück\n",
    "len(z_s)"
   ]
  },
  {
   "cell_type": "code",
   "execution_count": 168,
   "metadata": {},
   "outputs": [
    {
     "data": {
      "text/plain": [
       "(10, 1000)"
      ]
     },
     "execution_count": 168,
     "metadata": {},
     "output_type": "execute_result"
    }
   ],
   "source": [
    "# gibt ein np.array zurück (pre-nonlinearity activation Wx+b des input layers)\n",
    "z_s[0].shape"
   ]
  },
  {
   "cell_type": "markdown",
   "metadata": {
    "toc-hr-collapsed": true,
    "toc-nb-collapsed": true
   },
   "source": [
    "## Backprop\n",
    "Hinton alle slides: [[Source](https://www.cs.toronto.edu/~tijmen/csc321/slides/lecture_slides_lec3.pdf)]"
   ]
  },
  {
   "cell_type": "markdown",
   "metadata": {},
   "source": [
    "Initialize list for `deltas[j]` $=\\frac{\\partial E}{\\partial z_j}$ (1. Zeile auf Hinton Folie), where $z_j=$ `z_s[j]` and $y_j=$ `a_s[j]`."
   ]
  },
  {
   "cell_type": "code",
   "execution_count": 78,
   "metadata": {},
   "outputs": [
    {
     "data": {
      "text/plain": [
       "[None, None]"
      ]
     },
     "execution_count": 78,
     "metadata": {},
     "output_type": "execute_result"
    }
   ],
   "source": [
    "deltas=[None]*len(weights)\n",
    "deltas"
   ]
  },
  {
   "cell_type": "markdown",
   "metadata": {},
   "source": [
    "Quote von Hinton Folie:\n",
    "\n",
    "> $$E=\\frac{1}{2}\\sum_{j\\in output}(t_j-y_j)^2$$\n",
    "> $$\\frac{\\partial E}{\\partial y_j}=-(t_j-y_j)$$\n",
    "\n",
    "dh. die $y_j$ sind die post-nonlinearity activations!"
   ]
  },
  {
   "cell_type": "markdown",
   "metadata": {},
   "source": [
    "$E$ wird **nicht** berechnet, nur $$\\frac{\\partial E}{\\partial y_j}=-(t_j-y_j)$$ (nämlich in `.backpropagation()`), weil man für die weight updates nur die Gradienten von $E$ braucht und nicht $E$ selbst!"
   ]
  },
  {
   "cell_type": "markdown",
   "metadata": {},
   "source": [
    "### Wofür steht j ?"
   ]
  },
  {
   "cell_type": "markdown",
   "metadata": {},
   "source": [
    "`j` geht jeweils über alle x-Werte in `x_batch`, d.h. `j`$=1\\,,\\dotso\\,,$ `batch_size`, \n",
    "\n",
    "(**Achtung**: Bei `deltas[j]`, `z_s[j]` und `a_s[j]` steht das `j` für den **Layer** und hat nichts mit dem $j$ in $=\\frac{\\partial E}{\\partial z_j}$, $z_j$ und $y_j$ zu tun, was für einen x-Wert im batch steht."
   ]
  },
  {
   "cell_type": "markdown",
   "metadata": {},
   "source": [
    "### Matrix Shapes, dot products and Hadamard (element-wise) products"
   ]
  },
  {
   "cell_type": "markdown",
   "metadata": {},
   "source": [
    "**Achtung**: Matrix product geht nicht, wenn einer der beiden np.arrays einfach nur transponiert wird:"
   ]
  },
  {
   "cell_type": "code",
   "execution_count": 242,
   "metadata": {},
   "outputs": [
    {
     "data": {
      "text/plain": [
       "14"
      ]
     },
     "execution_count": 242,
     "metadata": {},
     "output_type": "execute_result"
    }
   ],
   "source": [
    "bla1=np.arange(4).T\n",
    "bla2=np.arange(4)\n",
    "bla1.dot(bla2)"
   ]
  },
  {
   "cell_type": "code",
   "execution_count": 248,
   "metadata": {},
   "outputs": [
    {
     "data": {
      "text/plain": [
       "array([0, 1, 2, 3])"
      ]
     },
     "execution_count": 248,
     "metadata": {},
     "output_type": "execute_result"
    }
   ],
   "source": [
    "# .T geht nur bei Matrizen, nicht bei Vektoren !\n",
    "bla1.T"
   ]
  },
  {
   "cell_type": "markdown",
   "metadata": {},
   "source": [
    "Stattdessen muss man `.reshape(1,-1)` anwenden:"
   ]
  },
  {
   "cell_type": "code",
   "execution_count": 251,
   "metadata": {},
   "outputs": [
    {
     "data": {
      "text/plain": [
       "array([[0, 0, 0, 0],\n",
       "       [0, 1, 2, 3],\n",
       "       [0, 2, 4, 6],\n",
       "       [0, 3, 6, 9]])"
      ]
     },
     "execution_count": 251,
     "metadata": {},
     "output_type": "execute_result"
    }
   ],
   "source": [
    "bla3=np.arange(4).reshape(1,-1).T\n",
    "bla4=np.arange(4).reshape(1,-1)\n",
    "bla3.dot(bla4)"
   ]
  },
  {
   "cell_type": "markdown",
   "metadata": {},
   "source": [
    "**Achtung**: Bei .dot auf dim aufpassen:"
   ]
  },
  {
   "cell_type": "code",
   "execution_count": 194,
   "metadata": {},
   "outputs": [
    {
     "data": {
      "text/plain": [
       "(1, 10)"
      ]
     },
     "execution_count": 194,
     "metadata": {},
     "output_type": "execute_result"
    }
   ],
   "source": [
    "weights[1].shape"
   ]
  },
  {
   "cell_type": "code",
   "execution_count": 210,
   "metadata": {},
   "outputs": [
    {
     "data": {
      "text/plain": [
       "(1, 10)"
      ]
     },
     "execution_count": 210,
     "metadata": {},
     "output_type": "execute_result"
    }
   ],
   "source": [
    "vec=np.arange(0,10).reshape(1,-1)\n",
    "vec.shape"
   ]
  },
  {
   "cell_type": "code",
   "execution_count": 307,
   "metadata": {},
   "outputs": [
    {
     "data": {
      "text/plain": [
       "(10, 10)"
      ]
     },
     "execution_count": 307,
     "metadata": {},
     "output_type": "execute_result"
    }
   ],
   "source": [
    "# geht\n",
    "# normal matrix product (nur komisch weil (10x1) x (1x10) ungewohnt, aber \n",
    "# recall, zB. (10x3) x (3x10) ging ja auch immer)\n",
    "weights[1].T.dot(vec).shape"
   ]
  },
  {
   "cell_type": "code",
   "execution_count": 213,
   "metadata": {},
   "outputs": [
    {
     "ename": "ValueError",
     "evalue": "shapes (1,10) and (1,10) not aligned: 10 (dim 1) != 1 (dim 0)",
     "output_type": "error",
     "traceback": [
      "\u001b[0;31m---------------------------------------------------------------------------\u001b[0m",
      "\u001b[0;31mValueError\u001b[0m                                Traceback (most recent call last)",
      "\u001b[0;32m<ipython-input-213-7b397d8d659b>\u001b[0m in \u001b[0;36m<module>\u001b[0;34m\u001b[0m\n\u001b[1;32m      1\u001b[0m \u001b[0;31m# geht nicht: Dimensionsfehler\u001b[0m\u001b[0;34m\u001b[0m\u001b[0;34m\u001b[0m\u001b[0;34m\u001b[0m\u001b[0m\n\u001b[0;32m----> 2\u001b[0;31m \u001b[0mweights\u001b[0m\u001b[0;34m[\u001b[0m\u001b[0;36m1\u001b[0m\u001b[0;34m]\u001b[0m\u001b[0;34m.\u001b[0m\u001b[0mdot\u001b[0m\u001b[0;34m(\u001b[0m\u001b[0mvec\u001b[0m\u001b[0;34m)\u001b[0m\u001b[0;34m\u001b[0m\u001b[0;34m\u001b[0m\u001b[0m\n\u001b[0m",
      "\u001b[0;31mValueError\u001b[0m: shapes (1,10) and (1,10) not aligned: 10 (dim 1) != 1 (dim 0)"
     ]
    }
   ],
   "source": [
    "# geht nicht: Dimensionsfehler\n",
    "weights[1].dot(vec)"
   ]
  },
  {
   "cell_type": "code",
   "execution_count": 253,
   "metadata": {},
   "outputs": [
    {
     "data": {
      "text/plain": [
       "(10, 1)"
      ]
     },
     "execution_count": 253,
     "metadata": {},
     "output_type": "execute_result"
    }
   ],
   "source": [
    "# Shape of transpose matrix\n",
    "weights[1].T.shape"
   ]
  },
  {
   "cell_type": "markdown",
   "metadata": {},
   "source": [
    "Check matrix product:"
   ]
  },
  {
   "cell_type": "code",
   "execution_count": 305,
   "metadata": {},
   "outputs": [
    {
     "data": {
      "text/plain": [
       "4.5748538274623725"
      ]
     },
     "execution_count": 305,
     "metadata": {},
     "output_type": "execute_result"
    }
   ],
   "source": [
    "# Element [1][6] of matrix\n",
    "weights[1].T.dot(vec)[1][6]"
   ]
  },
  {
   "cell_type": "code",
   "execution_count": 306,
   "metadata": {},
   "outputs": [
    {
     "data": {
      "text/plain": [
       "4.5748538274623725"
      ]
     },
     "execution_count": 306,
     "metadata": {},
     "output_type": "execute_result"
    }
   ],
   "source": [
    "# compute element [1][6] manually\n",
    "vec[0][6]*weights[1][0][1]"
   ]
  },
  {
   "cell_type": "markdown",
   "metadata": {},
   "source": [
    "### Backprop in einzelnen Schritten rekonstruiert (Zeile 1 und 2 Hinton)"
   ]
  },
  {
   "cell_type": "code",
   "execution_count": 190,
   "metadata": {},
   "outputs": [],
   "source": [
    "# define getDerivativeActivationFunction for convenience\n",
    "deriv = lambda p: NeuralNetwork.NeuralNetwork.getDerivitiveActivationFunction('linear')(p)\n",
    "# define prenon_activations for convenience\n",
    "prenon_activation_L2 = weights[1].dot(a_L1)+b[1]\n",
    "prenon_activation_L1 = weights[0].dot(X)+b[0]"
   ]
  },
  {
   "cell_type": "code",
   "execution_count": 192,
   "metadata": {},
   "outputs": [],
   "source": [
    "# Compute delta of last layer\n",
    "deltas[-1] = (-(y-a_L2)*deriv(prenon_activation_L2))"
   ]
  },
  {
   "cell_type": "markdown",
   "metadata": {},
   "source": [
    "***********"
   ]
  },
  {
   "cell_type": "markdown",
   "metadata": {},
   "source": [
    "**Note**: In the following `weights[1].T.dot(deltas[-1])` is a matrix product! The shapes of the matrices are"
   ]
  },
  {
   "cell_type": "code",
   "execution_count": 257,
   "metadata": {},
   "outputs": [
    {
     "data": {
      "text/plain": [
       "(1, 10)"
      ]
     },
     "execution_count": 257,
     "metadata": {},
     "output_type": "execute_result"
    }
   ],
   "source": [
    "weights[1].shape"
   ]
  },
  {
   "cell_type": "code",
   "execution_count": 304,
   "metadata": {},
   "outputs": [
    {
     "data": {
      "text/plain": [
       "(1, 1000)"
      ]
     },
     "execution_count": 304,
     "metadata": {},
     "output_type": "execute_result"
    }
   ],
   "source": [
    "deltas[-1].shape # Eine Spalte für jeden x-Wert im Batch [bzw. für jeden entsprechenden output y-Wert]"
   ]
  },
  {
   "cell_type": "markdown",
   "metadata": {},
   "source": [
    "and, hence, the dimension of their product is $(1 \\times 10)^T\\odot (1 \\times 1000)$. Eine Spalte für jeden x-Wert im Batch also 1000 Spalten."
   ]
  },
  {
   "cell_type": "code",
   "execution_count": 308,
   "metadata": {},
   "outputs": [
    {
     "data": {
      "text/plain": [
       "(10, 1000)"
      ]
     },
     "execution_count": 308,
     "metadata": {},
     "output_type": "execute_result"
    }
   ],
   "source": [
    "weights[1].T.dot(deltas[1]).shape"
   ]
  },
  {
   "cell_type": "code",
   "execution_count": 310,
   "metadata": {},
   "outputs": [
    {
     "data": {
      "text/plain": [
       "1"
      ]
     },
     "execution_count": 310,
     "metadata": {},
     "output_type": "execute_result"
    }
   ],
   "source": [
    "deriv(prenon_activation_L1)"
   ]
  },
  {
   "cell_type": "markdown",
   "metadata": {},
   "source": [
    "**********"
   ]
  },
  {
   "cell_type": "code",
   "execution_count": 239,
   "metadata": {},
   "outputs": [],
   "source": [
    "# backpropagate this delta to previous layer\n",
    "i=range(len(deltas)-1)\n",
    "i=i[-1]\n",
    "deltas[i]=weights[i+1].T.dot(deltas[i+1])*deriv(prenon_activation_L1)"
   ]
  },
  {
   "cell_type": "markdown",
   "metadata": {},
   "source": [
    "### Return Error derivatives wrt weights (Zeile 3 Hinton)"
   ]
  },
  {
   "cell_type": "markdown",
   "metadata": {},
   "source": [
    "Die letzte activation, i.e. `activations[2]=a_L2` des Output Layers, brauchen wir nicht für $\\frac{\\partial E}{\\partial w_{ij}}$ [s. in Hinton Zeile 3 steht $y_i$ (activation of **previous** layer) und nicht $y_j$ (activation of current layer)].\n",
    "\n",
    "> Goodfellow Algo 6.4, Backprop: \n",
    ">\n",
    "> $$\\nabla_{\\bf{W}^{(k)}} J=\\bf{g}{\\bf{h}^{(k-1)}}^T$$\n",
    "\n",
    "Auch hier startet die $\\frac{\\partial E}{\\partial w_{ij}}$ Rechnung bei $k-1$ ($k=l,l-1,\\dotso,1$), also mit der vorletzten activation $\\bf{h}^{(l-1)}$."
   ]
  },
  {
   "cell_type": "code",
   "execution_count": 298,
   "metadata": {},
   "outputs": [
    {
     "data": {
      "text/plain": [
       "(1, 1000)"
      ]
     },
     "execution_count": 298,
     "metadata": {},
     "output_type": "execute_result"
    }
   ],
   "source": [
    "# Diese activation geht nicht dE/dw ein !\n",
    "activations=[X,a_L1,a_L2]\n",
    "activations[2].shape"
   ]
  },
  {
   "cell_type": "code",
   "execution_count": 299,
   "metadata": {},
   "outputs": [
    {
     "data": {
      "text/plain": [
       "(10, 1000)"
      ]
     },
     "execution_count": 299,
     "metadata": {},
     "output_type": "execute_result"
    }
   ],
   "source": [
    "# Die vorletzte activation aber schon\n",
    "activations=[X,a_L1,a_L2]\n",
    "activations[1].shape"
   ]
  },
  {
   "cell_type": "markdown",
   "metadata": {},
   "source": [
    "Dies ist $\\frac{\\partial E}{\\partial z_j}$ ist `deltas[j]` (wobei `j` der current layer ist):"
   ]
  },
  {
   "cell_type": "code",
   "execution_count": 300,
   "metadata": {},
   "outputs": [
    {
     "data": {
      "text/plain": [
       "(1, 1000)"
      ]
     },
     "execution_count": 300,
     "metadata": {},
     "output_type": "execute_result"
    }
   ],
   "source": [
    "deltas[1].shape"
   ]
  },
  {
   "cell_type": "markdown",
   "metadata": {},
   "source": [
    "**Achtung**: `len(deltas)=2` und `len(activations)=3`, sodass `i` im folgenden Code nur die ersten beiden activations anspricht (die Output layer activation soll ja nicht in die Rechnung eingehen, wie gerade oben in dieser Section gesagt)."
   ]
  },
  {
   "cell_type": "code",
   "execution_count": 267,
   "metadata": {},
   "outputs": [],
   "source": [
    "# return Error derivatives wrt weights\n",
    "dw=[]\n",
    "db=[]\n",
    "dw=[d.dot(activations[i].T) for i, d in enumerate(deltas)]"
   ]
  },
  {
   "cell_type": "code",
   "execution_count": 297,
   "metadata": {},
   "outputs": [
    {
     "name": "stdout",
     "output_type": "stream",
     "text": [
      "The dot product d.dot(activations[i].T) has dimensions:\n",
      "(1, 1000)  x  (1000, 10)\n",
      "The resulting product has dimensions:\n",
      "(1, 10)\n"
     ]
    }
   ],
   "source": [
    "print('The dot product d.dot(activations[i].T) has dimensions:')\n",
    "print(deltas[1].shape, ' x ', activations[1].T.shape)\n",
    "print('The resulting product has dimensions:')\n",
    "print(deltas[1].dot(activations[1].T).shape)"
   ]
  },
  {
   "cell_type": "markdown",
   "metadata": {},
   "source": [
    "********\n",
    "How does `enumerate()` work?"
   ]
  },
  {
   "cell_type": "code",
   "execution_count": 280,
   "metadata": {},
   "outputs": [
    {
     "data": {
      "text/plain": [
       "[(0, 2), (1, 3), (2, 13)]"
      ]
     },
     "execution_count": 280,
     "metadata": {},
     "output_type": "execute_result"
    }
   ],
   "source": [
    "# how does enumerate work\n",
    "r=[2,3,13]\n",
    "list(enumerate(r))"
   ]
  },
  {
   "cell_type": "code",
   "execution_count": 279,
   "metadata": {},
   "outputs": [
    {
     "data": {
      "text/plain": [
       "0"
      ]
     },
     "execution_count": 279,
     "metadata": {},
     "output_type": "execute_result"
    }
   ],
   "source": [
    "objekt1, objekt2 = list(enumerate(r))[0]\n",
    "objekt1"
   ]
  },
  {
   "cell_type": "markdown",
   "metadata": {},
   "source": [
    "***********"
   ]
  },
  {
   "cell_type": "markdown",
   "metadata": {},
   "source": [
    "### Interpretation der Hinton Folie"
   ]
  },
  {
   "cell_type": "markdown",
   "metadata": {},
   "source": [
    "**Achtung**: Hintons `i` ist sozusagen `j-1`. Hinton will folgenden Algo mit der Folie beschreiben: \n",
    "1. Compute for all j $$\\frac{\\partial E}{\\partial z_{j}}=\\left[y_{j}(1-y_{j})\\right]_{y_j=\\sigma(\\text{z_s[-1]})}\\frac{\\partial E}{\\partial y_j}\\quad \\text{for }j=1\\,,\\dotso\\,,\\text{batch_size}$$\n",
    "(where $\\frac{\\partial E}{\\partial y_j}=-(t_j-y_j)$ (np.array with dimension ($1$, `batch_size`)) and $y_{j}(1-y_{j})$ can be computed using the forward pass results).\n",
    "\n",
    "`z_s[-1]` is the **PRE**-nonlinearity activation of the last layer [könnte man aber auch mit `a_s[-1]` implementieren, man müsste dann nur `.getDerivitiveActivationFunction()` umschreiben].\n",
    "\n",
    "2. Compute **dot product** of the weight matrix which connects layer `j` and `j-1` and $\\frac{\\partial E}{\\partial z_{j}}$ from step 1: $$\\frac{\\partial E}{\\partial y_{j-1}}=\\sum_j w_{j-1,j}\\underbrace{\\frac{\\partial E}{\\partial z_j}}_\\text{bereits in 1. Zeile berechnet}$$\n",
    "or in other words: `self.weights[i+1].T.dot(deltas[i+1])`\n",
    "3. Nicht auf Folie, aber Hinton meint: Repeat step 1: Use $\\frac{\\partial E}{\\partial y_{j-1}}$ from step 2 to calculate $$\\frac{\\partial E}{\\partial z_{j-1}}$$\n",
    "or in other words compute $$\\frac{\\partial E}{\\partial z_{j-1}}=y_{j-1}(1-y_{j-1})\\underbrace{\\left(\\sum_j w_{j-1,j}\\frac{\\partial E}{\\partial z_j}\\right)}_\\text{bereits in 2. Zeile berechnet}$$\n",
    "4. Use $\\frac{\\partial E}{\\partial z_{j}}$ from step 1 to compute for all `j` (i.e. for all points in the batch) $$\\frac{\\partial E}{\\partial w_{j-1,j}}=y_{j-1}\\frac{\\partial E}{\\partial z_j}\\quad \\text{for }j=1\\,,\\dotso\\,,\\text{batch_size}$$\n",
    "which is a normal matrix product `dw = [d.dot(a_s[i].T)/float(batch_size) for i,d in enumerate(deltas)]` because (s. Diskussion und Rekonstruktion zu `dw` oben)."
   ]
  },
  {
   "cell_type": "markdown",
   "metadata": {},
   "source": [
    "![Hinton Folie Backprop](https://i.stack.imgur.com/OfPD6.png)"
   ]
  },
  {
   "cell_type": "markdown",
   "metadata": {},
   "source": [
    "Die erste Zeile auf der Folie entspricht\n",
    "\n",
    "`# insert the last layer error\n",
    "deltas[-1] = (-(y-a_s[-1])*(self.getDerivitiveActivationFunction(self.activations[-1]))(z_s[-1]))`\n",
    "\n",
    "Dann wird die 2. Zeile (unter Benutzung des Ergebnisses der 1. Zeile $\\frac{\\partial E}{\\partial z_j}$) ausgeführt, was\n",
    "\n",
    "`self.weights[i+1].T.dot(deltas[i+1])`\n",
    "\n",
    "in der `for` loop entspricht. Danach wird rekursiv wieder die 1. Zeile (unter Benutzung des Ergebnisses der 2. Zeile $\\frac{\\partial E}{\\partial y_i}$) ausgeführt, d.h. $$\\frac{\\partial E}{\\partial z_{j-1}}=y_{j-1}(1-y_{j-1})\\underbrace{\\left(\\sum_j w_{j-1,j}\\frac{\\partial E}{\\partial z_j}\\right)}_\\text{bereits in 2. Zeile berechnet}\\,,$$ wobei $y_{j-1}$ die activation der previous layer ist. Dies entspricht\n",
    "\n",
    "`# Perform BackPropagation\n",
    "for i in reversed(range(len(deltas)-1)):\n",
    "    deltas[i] = self.weights[i+1].T.dot(deltas[i+1])*(self.getDerivitiveActivationFunction(self.activations[i])(z_s[i]))        `"
   ]
  },
  {
   "cell_type": "markdown",
   "metadata": {},
   "source": [
    "und die 3. Zeile entspricht\n",
    "\n",
    "`dw = [d.dot(a_s[i].T)/float(batch_size) for i,d in enumerate(deltas)]`\n",
    "\n",
    "wobei `/float(batch_size)`, weil bei Minibatch der loss $E$ mit der batch_size normalized werden muss (s. ML Folie)."
   ]
  },
  {
   "cell_type": "markdown",
   "metadata": {},
   "source": [
    "### Element-wise product `*`"
   ]
  },
  {
   "cell_type": "markdown",
   "metadata": {},
   "source": [
    "Scalar multiplication is element-wise:"
   ]
  },
  {
   "cell_type": "code",
   "execution_count": 311,
   "metadata": {},
   "outputs": [
    {
     "data": {
      "text/plain": [
       "array([0, 2, 4, 6])"
      ]
     },
     "execution_count": 311,
     "metadata": {},
     "output_type": "execute_result"
    }
   ],
   "source": [
    "t=np.arange(4)\n",
    "t*2"
   ]
  },
  {
   "cell_type": "markdown",
   "metadata": {},
   "source": [
    "Vector multiplication is also element-wise:"
   ]
  },
  {
   "cell_type": "code",
   "execution_count": 174,
   "metadata": {},
   "outputs": [
    {
     "data": {
      "text/plain": [
       "array([ 4, 10, 18])"
      ]
     },
     "execution_count": 174,
     "metadata": {},
     "output_type": "execute_result"
    }
   ],
   "source": [
    "k=np.array([1,2,3])\n",
    "m=np.array([4,5,6])\n",
    "k*m"
   ]
  },
  {
   "cell_type": "markdown",
   "metadata": {},
   "source": [
    "Matrix products **must not** be performed with"
   ]
  },
  {
   "cell_type": "code",
   "execution_count": 321,
   "metadata": {},
   "outputs": [
    {
     "ename": "ValueError",
     "evalue": "operands could not be broadcast together with shapes (3,2) (2,3) ",
     "output_type": "error",
     "traceback": [
      "\u001b[0;31m---------------------------------------------------------------------------\u001b[0m",
      "\u001b[0;31mValueError\u001b[0m                                Traceback (most recent call last)",
      "\u001b[0;32m<ipython-input-321-5472db04532a>\u001b[0m in \u001b[0;36m<module>\u001b[0;34m\u001b[0m\n\u001b[1;32m      2\u001b[0m \u001b[0mn\u001b[0m\u001b[0;34m=\u001b[0m\u001b[0mnp\u001b[0m\u001b[0;34m.\u001b[0m\u001b[0marray\u001b[0m\u001b[0;34m(\u001b[0m\u001b[0;34m[\u001b[0m\u001b[0;34m[\u001b[0m\u001b[0;36m1\u001b[0m\u001b[0;34m,\u001b[0m\u001b[0;36m2\u001b[0m\u001b[0;34m,\u001b[0m\u001b[0;36m3\u001b[0m\u001b[0;34m]\u001b[0m\u001b[0;34m,\u001b[0m\u001b[0;34m[\u001b[0m\u001b[0;36m4\u001b[0m\u001b[0;34m,\u001b[0m\u001b[0;36m5\u001b[0m\u001b[0;34m,\u001b[0m\u001b[0;36m6\u001b[0m\u001b[0;34m]\u001b[0m\u001b[0;34m]\u001b[0m\u001b[0;34m)\u001b[0m\u001b[0;34m.\u001b[0m\u001b[0mT\u001b[0m\u001b[0;34m\u001b[0m\u001b[0;34m\u001b[0m\u001b[0m\n\u001b[1;32m      3\u001b[0m \u001b[0mo\u001b[0m\u001b[0;34m=\u001b[0m\u001b[0mnp\u001b[0m\u001b[0;34m.\u001b[0m\u001b[0marray\u001b[0m\u001b[0;34m(\u001b[0m\u001b[0;34m[\u001b[0m\u001b[0;34m[\u001b[0m\u001b[0;36m1\u001b[0m\u001b[0;34m,\u001b[0m\u001b[0;36m2\u001b[0m\u001b[0;34m,\u001b[0m\u001b[0;36m3\u001b[0m\u001b[0;34m]\u001b[0m\u001b[0;34m,\u001b[0m\u001b[0;34m[\u001b[0m\u001b[0;36m4\u001b[0m\u001b[0;34m,\u001b[0m\u001b[0;36m5\u001b[0m\u001b[0;34m,\u001b[0m\u001b[0;36m6\u001b[0m\u001b[0;34m]\u001b[0m\u001b[0;34m]\u001b[0m\u001b[0;34m)\u001b[0m\u001b[0;34m\u001b[0m\u001b[0;34m\u001b[0m\u001b[0m\n\u001b[0;32m----> 4\u001b[0;31m \u001b[0mn\u001b[0m\u001b[0;34m*\u001b[0m\u001b[0mo\u001b[0m\u001b[0;34m\u001b[0m\u001b[0;34m\u001b[0m\u001b[0m\n\u001b[0m",
      "\u001b[0;31mValueError\u001b[0m: operands could not be broadcast together with shapes (3,2) (2,3) "
     ]
    }
   ],
   "source": [
    "# does not work ! use .dot() instead\n",
    "n=np.array([[1,2,3],[4,5,6]]).T\n",
    "o=np.array([[1,2,3],[4,5,6]])\n",
    "n*o"
   ]
  },
  {
   "cell_type": "markdown",
   "metadata": {},
   "source": [
    "... although it works with one-dimensional matrices:"
   ]
  },
  {
   "cell_type": "code",
   "execution_count": 322,
   "metadata": {},
   "outputs": [
    {
     "data": {
      "text/plain": [
       "array([[1, 2, 3],\n",
       "       [2, 4, 6],\n",
       "       [3, 6, 9]])"
      ]
     },
     "execution_count": 322,
     "metadata": {},
     "output_type": "execute_result"
    }
   ],
   "source": [
    "# bad coding style\n",
    "n2=np.array([[1,2,3]]).T\n",
    "o2=np.array([[1,2,3]])\n",
    "n2*o2"
   ]
  },
  {
   "cell_type": "markdown",
   "metadata": {},
   "source": [
    "### zu .getDerivitiveActivationFunction()"
   ]
  },
  {
   "cell_type": "code",
   "execution_count": 324,
   "metadata": {},
   "outputs": [
    {
     "data": {
      "text/plain": [
       "array([-14, -16])"
      ]
     },
     "execution_count": 324,
     "metadata": {},
     "output_type": "execute_result"
    }
   ],
   "source": [
    "# conditional np.array filtering\n",
    "q=np.array([13,-14,15,-16])\n",
    "q[q<0]"
   ]
  },
  {
   "cell_type": "markdown",
   "metadata": {},
   "source": [
    "# Why Shuffling ?"
   ]
  },
  {
   "cell_type": "markdown",
   "metadata": {},
   "source": [
    "[Source](https://datascience.stackexchange.com/questions/24511/why-should-the-data-be-shuffled-for-machine-learning-tasks?newreg=cf6d76873092423c93d59539b758c42d)\n",
    "\n",
    "**Note: throughout this answer I refer to minimization of training loss and I do not discuss stopping criteria such as validation loss. The choice of stopping criteria does not affect the process/concepts described below.**\n",
    "\n",
    "The process of training a neural network is to find the minimum value of a loss function $\\mathcal{L}_X(W)$\n",
    ", where $W$ represents a matrix (or several matrices) of weights between neurons and $X$ represents the training dataset. I use a subscript for $X$ to indicate that our minimization of $\\mathcal{L}$ occurs only over the weights $W$ (that is, we are looking for $W$ such that $\\mathcal{L}$ is minimized) while $X$ is fixed.\n",
    "\n",
    "Now, if we assume that we have $P$ elements in $W$ (that is, there are $P$ weights in the network), $\\mathcal{L}$ is a surface in a $P$+1-dimensional space. To give a visual analogue, imagine that we have only two neuron weights ($P$=2). Then $\\mathcal{L}$ has an easy geometric interpretation: it is a surface in a 3-dimensional space. This arises from the fact that for any given matrices of weights $W$, the loss function can be evaluated on $X$ and that value becomes the elevation of the surface.\n",
    "\n",
    "But there is the problem of non-convexity; the surface I described will have numerous local minima, and therefore gradient descent algorithms are susceptible to becoming \"stuck\" in those minima while a deeper/lower/better solution may lie nearby. This is likely to occur if $X$ is unchanged over all training iterations, because the surface is fixed for a given $X$; all its features are static, including its various minima.\n",
    "\n",
    "A solution to this is mini-batch training combined with shuffling. By shuffling the rows and training on only a subset of them during a given iteration, $X$ changes with every iteration, and it is actually quite possible that no two iterations over the entire sequence of training iterations and epochs will be performed on the exact same $X$. The effect is that the solver can easily \"bounce\" out of a local minimum. Imagine that the solver is stuck in a local minimum at iteration 𝑖 with training mini-batch $X_i$. This local minimum corresponds to $\\mathcal{L}$ evaluated at a particular value of weights; we'll call it $\\mathcal{L}_{X_i}(W_i)$. On the next iteration the shape of our loss surface actually changes because we are using $X_{i+1}$, that is, $\\mathcal{L}_{X_{i+1}}(W_i)$ may take on a very different value from $\\mathcal{L}_{X_i}(W_i)$ and it is quite possible that it does not correspond to a local minimum! We can now compute a gradient update and continue with training. To be clear: the shape of $\\mathcal{L}_{X_{i+1}}$ will -- in general -- be different from that of $\\mathcal{L}_{X_i}$. Note that here I am referring to the loss function $\\mathcal{L}$ evaluated on a training set $X$; it is a complete surface defined over all possible values of $W$, rather than the evaluation of that loss (which is just a scalar) for a specific value of $W$. Note also that if mini-batches are used without shuffling there is still a degree of \"diversification\" of loss surfaces, but there will be a finite (and relatively small) number of unique error surfaces seen by the solver (specifically, it will see the same exact set of mini-batches -- and therefore loss surfaces -- during each epoch).\n",
    "\n",
    "One thing I deliberately avoided was a discussion of mini-batch sizes, because there are a million opinions on this and it has significant practical implications (greater parallelization can be achieved with larger batches). However, I believe the following is worth mentioning. Because $\\mathcal{L}$ is evaluated by computing a value for each row of $X$ (and summing or taking the average; i.e., a commutative operator) for a given set of weight matrices $W$, the arrangement of the rows of $X$ has no effect when using full-batch gradient descent (that is, when each batch is the full $X$, and iterations and epochs are the same thing)."
   ]
  }
 ],
 "metadata": {
  "kernelspec": {
   "display_name": "Python 3",
   "language": "python",
   "name": "python3"
  },
  "language_info": {
   "codemirror_mode": {
    "name": "ipython",
    "version": 3
   },
   "file_extension": ".py",
   "mimetype": "text/x-python",
   "name": "python",
   "nbconvert_exporter": "python",
   "pygments_lexer": "ipython3",
   "version": "3.8.5"
  }
 },
 "nbformat": 4,
 "nbformat_minor": 4
}
