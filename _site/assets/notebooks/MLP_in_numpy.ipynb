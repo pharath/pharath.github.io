{
 "cells": [
  {
   "cell_type": "markdown",
   "metadata": {},
   "source": [
    "# **numpy** Polynomial Regression with GD"
   ]
  },
  {
   "cell_type": "code",
   "execution_count": 10,
   "metadata": {},
   "outputs": [],
   "source": [
    "import numpy as np\n",
    "import math\n",
    "import pandas as pd"
   ]
  },
  {
   "cell_type": "markdown",
   "metadata": {},
   "source": [
    "Recall: $$\\vec{\\theta}^{n+1}=\\vec{\\theta}^n-\\eta\\nabla_{\\vec{\\theta}}E$$ where\n",
    "$${\\bf\\nabla}_{\\vec{\\theta}}E=\\begin{pmatrix} \n",
    "\\frac{\\partial E}{\\partial \\theta_1}\\\\ \n",
    "\\frac{\\partial E}{\\partial \\theta_2}\\\\ \n",
    "\\frac{\\partial E}{\\partial \\theta_3} \n",
    "\\end{pmatrix} $$ That is, GD can be implemented **component-wise** [[selbe Formel wie in Folie 13](https://www.cc.gatech.edu/~bboots3/CS4641-Fall2018/Lecture3/03_LinearRegression.pdf)]\n",
    "$${\\theta}^{n+1}_i={\\theta}^n_i-\\eta\\frac{\\partial E}{\\partial \\theta_i}\\,,\\quad i=1,2,3\\,.$$ where\n",
    "$$y_{pred}\\text{: predicted model function (here: 3rd degree polynomial)}$$\n",
    "$$y\\text{: true function (here: sine)}$$\n",
    "$$\\frac{\\partial E}{\\partial \\theta_i}=\\frac{\\partial E(y_{pred})}{\\partial y_{pred}}\\cdot\\frac{\\partial y_{pred}}{\\partial \\theta_i}\\quad\\text{(dot product)},$$ \n",
    "$$E(y) = \\sum_{n=1}^N(y_{pred}(\\vec{\\theta})-y)^2,$$\n",
    "$$y_{pred} = a + bx + cx^2 + dx^3 = \\pmb{\\theta}^\\top\\pmb{\\phi}(\\pmb{x}),$$\n",
    "$$\\vec{\\theta} = (a, b, c, d)^\\top,$$\n",
    "$$\\pmb{\\phi}(\\pmb{x})=(1,x,x^2,x^3)^\\top.$$"
   ]
  },
  {
   "cell_type": "code",
   "execution_count": 5,
   "metadata": {},
   "outputs": [
    {
     "name": "stdout",
     "output_type": "stream",
     "text": [
      "99 310.6734002758945\n",
      "199 219.28135791364008\n",
      "299 155.67466435244282\n",
      "399 111.36717194273274\n",
      "499 80.47834194409633\n",
      "599 58.9275779811094\n",
      "699 43.88065224401366\n",
      "799 33.3672376628297\n",
      "899 26.016383387094592\n",
      "999 20.873376650243184\n",
      "1099 17.272824839838854\n",
      "1199 14.750613997414494\n",
      "1299 12.982777949226627\n",
      "1399 11.74301381888267\n",
      "1499 10.873130188574079\n",
      "1599 10.262473497824303\n",
      "1699 9.833593133178905\n",
      "1799 9.532245444640841\n",
      "1899 9.320418027027925\n",
      "1999 9.171458113228551\n",
      "Result: y = -0.019173687774016075 + 0.8517681150663131 x + 0.00330778019255949 x^2 + -0.09262306178443253 x^3\n"
     ]
    }
   ],
   "source": [
    "# -*- coding: utf-8 -*-\n",
    "\n",
    "# Create random input and output data\n",
    "x = np.linspace(-math.pi, math.pi, 2000)\n",
    "y = np.sin(x)\n",
    "\n",
    "# Randomly initialize weights\n",
    "a = np.random.randn()\n",
    "b = np.random.randn()\n",
    "c = np.random.randn()\n",
    "d = np.random.randn()\n",
    "\n",
    "learning_rate = 1e-6\n",
    "\n",
    "for t in range(2000):\n",
    "    # Forward pass: compute predicted y\n",
    "    # y = a + b x + c x^2 + d x^3\n",
    "    y_pred = a + b * x + c * x ** 2 + d * x ** 3\n",
    "\n",
    "    # Compute and print loss (nach je 100 loop Durchgängen)\n",
    "    loss = np.square(y_pred - y).sum()\n",
    "    if t % 100 == 99:      # weil counter t nach 100 loops bei t = 99 ist\n",
    "        print(t, loss)\n",
    "\n",
    "    # Backprop to compute gradients of a, b, c, d with respect to loss\n",
    "    # Kettenregel: dE/dw = dE/dy_pred * dy_pred/dw \n",
    "    # 1. dE/dy_pred:\n",
    "    grad_y_pred = 2.0 * (y_pred - y)\n",
    "    # 2. dE/dy_pred * dy_pred/dw (dot product):\n",
    "    grad_a = grad_y_pred.sum()   # weil hier dy_pred/dw = 1\n",
    "    grad_b = (grad_y_pred * x).sum()\n",
    "    grad_c = (grad_y_pred * x ** 2).sum()\n",
    "    grad_d = (grad_y_pred * x ** 3).sum()\n",
    "\n",
    "    # Update weights\n",
    "    a -= learning_rate * grad_a\n",
    "    b -= learning_rate * grad_b\n",
    "    c -= learning_rate * grad_c\n",
    "    d -= learning_rate * grad_d\n",
    "\n",
    "print(f'Result: y = {a} + {b} x + {c} x^2 + {d} x^3')"
   ]
  },
  {
   "cell_type": "code",
   "execution_count": 6,
   "metadata": {},
   "outputs": [
    {
     "data": {
      "text/plain": [
       "<matplotlib.legend.Legend at 0x12d813340>"
      ]
     },
     "execution_count": 6,
     "metadata": {},
     "output_type": "execute_result"
    },
    {
     "data": {
      "image/png": "[encoded data removed]",
      "text/plain": [
       "<Figure size 432x288 with 1 Axes>"
      ]
     },
     "metadata": {
      "needs_background": "light"
     },
     "output_type": "display_data"
    }
   ],
   "source": [
    "import matplotlib.pyplot as plt\n",
    "\n",
    "t=np.linspace(-math.pi, math.pi, 10)\n",
    "plt.plot(x, y, label=\"y\")\n",
    "plt.plot(x, y_pred, label=\"y_pred\")\n",
    "plt.legend(loc=\"upper left\")"
   ]
  },
  {
   "cell_type": "markdown",
   "metadata": {},
   "source": [
    "# **pytorch** Polynomial Regression with GD"
   ]
  },
  {
   "cell_type": "code",
   "execution_count": 2,
   "metadata": {},
   "outputs": [
    {
     "name": "stdout",
     "output_type": "stream",
     "text": [
      "99 2649.796875\n",
      "199 1759.4521484375\n",
      "299 1169.46484375\n",
      "399 778.4467163085938\n",
      "499 519.257080078125\n",
      "599 347.42279052734375\n",
      "699 233.48248291015625\n",
      "799 157.9165802001953\n",
      "899 107.79084777832031\n",
      "999 74.53364562988281\n",
      "1099 52.4633903503418\n",
      "1199 37.813575744628906\n",
      "1299 28.086753845214844\n",
      "1399 21.626901626586914\n",
      "1499 17.335586547851562\n",
      "1599 14.483887672424316\n",
      "1699 12.58830451965332\n",
      "1799 11.327817916870117\n",
      "1899 10.489341735839844\n",
      "1999 9.931400299072266\n",
      "Result: y = 0.012055261060595512 + 0.8262395858764648 x + -0.0020797327160835266 x^2 + -0.08899185061454773 x^3\n"
     ]
    }
   ],
   "source": [
    "# -*- coding: utf-8 -*-\n",
    "\n",
    "import torch\n",
    "import math\n",
    "\n",
    "\n",
    "dtype = torch.float\n",
    "device = torch.device(\"cpu\")\n",
    "# device = torch.device(\"cuda:0\") # Uncomment this to run on GPU\n",
    "\n",
    "# Create random input and output data\n",
    "x = torch.linspace(-math.pi, math.pi, 2000, device=device, dtype=dtype)\n",
    "y = torch.sin(x)\n",
    "\n",
    "# Randomly initialize weights\n",
    "a = torch.randn((), device=device, dtype=dtype)\n",
    "b = torch.randn((), device=device, dtype=dtype)\n",
    "c = torch.randn((), device=device, dtype=dtype)\n",
    "d = torch.randn((), device=device, dtype=dtype)\n",
    "\n",
    "learning_rate = 1e-6\n",
    "for t in range(2000):\n",
    "    # Forward pass: compute predicted y\n",
    "    y_pred = a + b * x + c * x ** 2 + d * x ** 3\n",
    "\n",
    "    # Compute and print loss\n",
    "    loss = (y_pred - y).pow(2).sum().item()\n",
    "    if t % 100 == 99:\n",
    "        print(t, loss)\n",
    "\n",
    "    # Backprop to compute gradients of a, b, c, d with respect to loss\n",
    "    grad_y_pred = 2.0 * (y_pred - y)\n",
    "    grad_a = grad_y_pred.sum()\n",
    "    grad_b = (grad_y_pred * x).sum()\n",
    "    grad_c = (grad_y_pred * x ** 2).sum()\n",
    "    grad_d = (grad_y_pred * x ** 3).sum()\n",
    "\n",
    "    # Update weights using gradient descent\n",
    "    a -= learning_rate * grad_a\n",
    "    b -= learning_rate * grad_b\n",
    "    c -= learning_rate * grad_c\n",
    "    d -= learning_rate * grad_d\n",
    "\n",
    "\n",
    "print(f'Result: y = {a.item()} + {b.item()} x + {c.item()} x^2 + {d.item()} x^3')"
   ]
  },
  {
   "cell_type": "code",
   "execution_count": 4,
   "metadata": {},
   "outputs": [
    {
     "data": {
      "text/plain": [
       "<matplotlib.legend.Legend at 0x12d5d90d0>"
      ]
     },
     "execution_count": 4,
     "metadata": {},
     "output_type": "execute_result"
    },
    {
     "data": {
      "image/png": "[encoded data removed]",
      "text/plain": [
       "<Figure size 432x288 with 1 Axes>"
      ]
     },
     "metadata": {
      "needs_background": "light"
     },
     "output_type": "display_data"
    }
   ],
   "source": [
    "import matplotlib.pyplot as plt\n",
    "import numpy as np\n",
    "\n",
    "t=np.linspace(-math.pi, math.pi, 10)\n",
    "plt.plot(x, y, label=\"y\")\n",
    "plt.plot(x, y_pred, label=\"y_pred\")\n",
    "plt.legend(loc=\"upper left\")"
   ]
  },
  {
   "cell_type": "markdown",
   "metadata": {},
   "source": [
    "************"
   ]
  },
  {
   "cell_type": "markdown",
   "metadata": {},
   "source": [
    "# MLP in numpy [[Source](https://medium.com/@a.mirzaei69/implement-a-neural-network-from-scratch-with-python-numpy-backpropagation-e82b70caa9bb)]"
   ]
  },
  {
   "cell_type": "code",
   "execution_count": 1,
   "metadata": {},
   "outputs": [],
   "source": [
    "import numpy as np\n",
    "from tqdm import tqdm\n",
    "\n",
    "class NeuralNetwork(object):\n",
    "    \n",
    "    def __init__(self, layers = [2 , 10, 1], activations=['sigmoid', 'linear'], random_state=None):\n",
    "        assert(len(layers) == len(activations)+1)\n",
    "        self.layers = layers\n",
    "        self.activations = activations\n",
    "        self.weights = []\n",
    "        self.biases = []\n",
    "        np.random.seed(random_state)\n",
    "        for i in range(len(layers)-1):\n",
    "            init_weight, init_bias = self.weightInit(activations[i], layers, i)\n",
    "            self.weights.append(init_weight)\n",
    "            self.biases.append(init_bias)\n",
    "    \n",
    "    def feedforward(self, x):\n",
    "        # return the feedforward value for x\n",
    "        a = np.copy(x)\n",
    "        z_s = []\n",
    "        a_s = [a]\n",
    "        for i in range(len(self.weights)):\n",
    "            activation_function = self.getActivationFunction(self.activations[i])\n",
    "            z_s.append(self.weights[i].dot(a) + self.biases[i])\n",
    "            a = activation_function(z_s[-1])\n",
    "            a_s.append(a)\n",
    "        return (z_s, a_s)\n",
    "    \n",
    "    def backpropagation(self,y, z_s, a_s):\n",
    "        dw = []  # dC/dW\n",
    "        db = []  # dC/dB\n",
    "        batch_size = y.shape[1]\n",
    "        deltas = [None] * len(self.weights)  # delta = dC/dZ  known as error for each layer\n",
    "        # insert the last layer error\n",
    "        deltas[-1] = (-(y-a_s[-1])/float(batch_size)*(self.getDerivitiveActivationFunction(self.activations[-1]))(z_s[-1]))\n",
    "        # Perform BackPropagation\n",
    "        for i in reversed(range(len(deltas)-1)):\n",
    "            deltas[i] = self.weights[i+1].T.dot(deltas[i+1])*(self.getDerivitiveActivationFunction(self.activations[i])(z_s[i]))        \n",
    "        #a= [print(d.shape) for d in deltas]\n",
    "        #batch_size = y.shape[1]\n",
    "        db = [d.dot(np.ones((batch_size,1))) for d in deltas]\n",
    "        dw = [d.dot(a_s[i].T) for i,d in enumerate(deltas)]\n",
    "        # return the derivitives respect to weight matrix and biases\n",
    "        return dw, db\n",
    "    \n",
    "    def train(self, x, y, batch_size=10, epochs=100, lr = 0.01, random_state=None):\n",
    "        np.random.seed(random_state)\n",
    "        #lr = lr/float(len(x[0])/batch_size)\n",
    "        x_temp = np.copy(x)\n",
    "        y_temp = np.copy(y)\n",
    "        data_temp = np.append(x_temp.reshape(-1,1), y_temp.reshape(-1,1), axis=1) \n",
    "        # update weights and biases based on the output\n",
    "        for e in tqdm(range(epochs)): \n",
    "            np.random.shuffle(data_temp)\n",
    "            x_temp = data_temp[:,0]\n",
    "            y_temp = data_temp[:,1]\n",
    "            i=0            \n",
    "            while(i<len(y[0])):\n",
    "                x_batch = x_temp[i:i+batch_size].reshape(1,-1)\n",
    "                y_batch = y_temp[i:i+batch_size].reshape(1,-1)\n",
    "                i = i+batch_size\n",
    "                z_s, a_s = self.feedforward(x_batch)\n",
    "                dw, db = self.backpropagation(y_batch, z_s, a_s)\n",
    "                self.weights = [w-lr*dweight for w,dweight in  zip(self.weights, dw)]\n",
    "                self.biases = [w-lr*dbias for w,dbias in  zip(self.biases, db)]\n",
    "                #print(\"loss = {}\".format(np.linalg.norm(a_s[-1]-y_batch) ))\n",
    "        print(\"loss = {}\".format(np.linalg.norm(self.feedforward(x)[1][-1]-y) ))\n",
    "        \n",
    "    @staticmethod    \n",
    "    def getActivationFunction(name):\n",
    "        if(name == 'sigmoid'):\n",
    "            return lambda x : np.exp(x)/(1+np.exp(x))\n",
    "        elif(name == 'linear'):\n",
    "            return lambda x : x\n",
    "        elif(name == 'relu'):\n",
    "            def relu(x):\n",
    "                y = np.copy(x)\n",
    "                y[y<0] = 0\n",
    "                return y\n",
    "            return relu\n",
    "        else:\n",
    "            print('Unknown activation function. linear is used')\n",
    "            return lambda x: x\n",
    "    \n",
    "    @staticmethod\n",
    "    def getDerivitiveActivationFunction(name):\n",
    "        if(name == 'sigmoid'):\n",
    "            sig = lambda x : np.exp(x)/(1+np.exp(x))\n",
    "            return lambda x :sig(x)*(1-sig(x)) \n",
    "        elif(name == 'linear'):\n",
    "            return lambda x: 1\n",
    "        elif(name == 'relu'):\n",
    "            def relu_diff(x):\n",
    "                y = np.copy(x)\n",
    "                y[y>=0] = 1\n",
    "                y[y<0] = 0\n",
    "                return y\n",
    "            return relu_diff\n",
    "        else:\n",
    "            print('Unknown activation function. linear is used')\n",
    "            return lambda x: 1\n",
    "    \n",
    "    @staticmethod\n",
    "    def weightInit(activation_name, layers, i):\n",
    "        if(activation_name in ['sigmoid', 'linear']):    # Glorot initialization\n",
    "            sigma = np.sqrt(2 / (layers[i]+layers[i+1]))\n",
    "            weights = np.random.randn(layers[i+1], layers[i]) * sigma\n",
    "            # Goodfellow: For feedforward neural networks, it is important to initialize \n",
    "            # all weights to small random values. The biases may be\n",
    "            # initialized to zero or to small positive values.\n",
    "            bias = np.zeros((layers[i+1], 1))\n",
    "            return weights, bias\n",
    "        elif(activation_name == 'relu'):   # He initialization\n",
    "            weights = np.random.randn(layers[i+1], layers[i]) * np.sqrt(2 / (layers[i]))\n",
    "            bias = np.zeros((layers[i+1], 1))\n",
    "            return weights, bias\n",
    "        else:                              # default: Glorot initialization\n",
    "            print('Unknown weight initialization. Glorot is used.')\n",
    "            sigma = np.sqrt(2 / (layers[i]+layers[i+1]))\n",
    "            weights = np.random.randn(layers[i+1], layers[i]) * sigma\n",
    "            bias = np.zeros((layers[i+1], 1))\n",
    "            return weights, bias\n",
    "\n",
    "# Folgendes ist auskommentiert, weil __name__=='__main__' hier zu True auswertet und\n",
    "# alles ausführt, bevor die class überhaupt definiert ist. \n",
    "# (https://www.freecodecamp.org/news/whats-in-a-python-s-name-506262fe61e8/)\n",
    "\n",
    "#     if __name__=='__main__':\n",
    "#         import matplotlib.pyplot as plt\n",
    "#         nn = NeuralNetwork([1, 100, 1],activations=['sigmoid', 'sigmoid'])\n",
    "#         X = 2*np.pi*np.random.rand(1000).reshape(1, -1)\n",
    "#         y = np.sin(X)    \n",
    "        \n",
    "#         nn.train(X, y, epochs=10000, batch_size=64, lr = .1)\n",
    "#         _, a_s = nn.feedforward(X)\n",
    "#         #print(y, X)\n",
    "#         plt.scatter(X.flatten(), y.flatten())\n",
    "#         plt.scatter(X.flatten(), a_s[-1].flatten())\n",
    "#         plt.show()\n",
    "\n",
    "# Dieser if-Block macht also nur Sinn nach der class Definition (ist \n",
    "# auch so gemeint s. Indentation im Artikel):\n",
    "\n",
    "# if __name__=='__main__':\n",
    "#     import matplotlib.pyplot as plt\n",
    "#     nn = NeuralNetwork([1, 100, 1],activations=['sigmoid', 'sigmoid'])\n",
    "#     X = 2*np.pi*np.random.rand(1000).reshape(1, -1)\n",
    "#     y = np.sin(X)    \n",
    "\n",
    "#     nn.train(X, y, epochs=10000, batch_size=64, lr = .1)\n",
    "#     _, a_s = nn.feedforward(X)\n",
    "#     #print(y, X)\n",
    "#     plt.scatter(X.flatten(), y.flatten())\n",
    "#     plt.scatter(X.flatten(), a_s[-1].flatten())\n",
    "#     plt.show()"
   ]
  },
  {
   "cell_type": "code",
   "execution_count": 2,
   "metadata": {},
   "outputs": [],
   "source": [
    "X = 4.*np.pi*np.random.rand(1000).reshape(1, -1) - 2.*np.pi\n",
    "#y = np.sin(X)\n",
    "#y = 1/X\n",
    "#y = np.tan(X)\n",
    "y = np.exp(X)\n",
    "#y = 1/(1+np.exp(-X))"
   ]
  },
  {
   "cell_type": "code",
   "execution_count": 3,
   "metadata": {},
   "outputs": [
    {
     "name": "stderr",
     "output_type": "stream",
     "text": [
      "100%|██████████| 100/100 [00:01<00:00, 50.96it/s]\n"
     ]
    },
    {
     "name": "stdout",
     "output_type": "stream",
     "text": [
      "loss = 691.2011422423172\n"
     ]
    },
    {
     "data": {
      "application/vnd.jupyter.widget-view+json": {
       "model_id": "a3096be8b3f14958b3fb232c5009ae80",
       "version_major": 2,
       "version_minor": 0
      },
      "text/plain": [
       "Canvas(toolbar=Toolbar(toolitems=[('Home', 'Reset original view', 'home', 'home'), ('Back', 'Back to previous …"
      ]
     },
     "metadata": {},
     "output_type": "display_data"
    }
   ],
   "source": [
    "import matplotlib.pyplot as plt\n",
    "%matplotlib ipympl\n",
    "\n",
    "nn = NeuralNetwork([1, 100, 1],activations=['relu', 'linear'], random_state=42)  # random_state for weight initialization\n",
    "nn.train(X, y, epochs=100, batch_size=16, lr = .0001, random_state=89)            # random_state for batch shuffling\n",
    "_, a_s = nn.feedforward(X)\n",
    "#print(y, X)\n",
    "plt.scatter(X.flatten(), y.flatten())\n",
    "plt.scatter(X.flatten(), a_s[-1].flatten())\n",
    "plt.show()"
   ]
  },
  {
   "cell_type": "markdown",
   "metadata": {},
   "source": [
    "# MLP using MLPRegressor()"
   ]
  },
  {
   "cell_type": "code",
   "execution_count": 133,
   "metadata": {},
   "outputs": [
    {
     "data": {
      "image/png": "[encoded data removed]",
      "text/plain": [
       "<Figure size 432x288 with 1 Axes>"
      ]
     },
     "metadata": {
      "needs_background": "light"
     },
     "output_type": "display_data"
    }
   ],
   "source": [
    "from sklearn.neural_network import MLPRegressor\n",
    "X_reg=X.reshape(-1,1)\n",
    "y_reg=y.reshape(-1,)\n",
    "regr=MLPRegressor(solver='sgd', alpha=0, learning_rate_init=.001, batch_size=100, random_state=1, max_iter=100).fit(X_reg,y_reg)\n",
    "y_predict=regr.predict(X_reg)\n",
    "plt.scatter(X_reg.flatten(),y_reg.flatten())\n",
    "plt.scatter(X_reg.flatten(),y_predict.flatten())\n",
    "plt.show()"
   ]
  },
  {
   "cell_type": "markdown",
   "metadata": {},
   "source": [
    "# MLP with plot updates after each epoch"
   ]
  },
  {
   "cell_type": "markdown",
   "metadata": {},
   "source": [
    "Geht nur im **Terminal**. Hier wird jeder Plot einzeln neu geplottet."
   ]
  },
  {
   "cell_type": "code",
   "execution_count": 15,
   "metadata": {},
   "outputs": [
    {
     "name": "stdout",
     "output_type": "stream",
     "text": [
      "loss = 1527.7533021544248\n"
     ]
    }
   ],
   "source": [
    "import numpy as np\n",
    "from tqdm import tqdm\n",
    "\n",
    "class NeuralNetwork_mit_plot_update(object):\n",
    "    \n",
    "    def __init__(self, layers = [2 , 10, 1], activations=['sigmoid', 'linear']):\n",
    "        assert(len(layers) == len(activations)+1)\n",
    "        self.layers = layers\n",
    "        self.activations = activations\n",
    "        self.weights = []\n",
    "        self.biases = []\n",
    "        for i in range(len(layers)-1):\n",
    "            self.weights.append(np.random.randn(layers[i+1], layers[i]))\n",
    "            self.biases.append(np.random.randn(layers[i+1], 1))\n",
    "    \n",
    "    def feedforward(self, x):\n",
    "        # return the feedforward value for x\n",
    "        a = np.copy(x)\n",
    "        z_s = []\n",
    "        a_s = [a]\n",
    "        for i in range(len(self.weights)):\n",
    "            activation_function = self.getActivationFunction(self.activations[i])\n",
    "            z_s.append(self.weights[i].dot(a) + self.biases[i])\n",
    "            a = activation_function(z_s[-1])\n",
    "            a_s.append(a)\n",
    "        return (z_s, a_s)\n",
    "    \n",
    "    def backpropagation(self,y, z_s, a_s):\n",
    "        dw = []  # dC/dW\n",
    "        db = []  # dC/dB\n",
    "        batch_size = y.shape[1]\n",
    "        deltas = [None] * len(self.weights)  # delta = dC/dZ  known as error for each layer\n",
    "        # insert the last layer error\n",
    "        deltas[-1] = (-(y-a_s[-1])/float(batch_size)*(self.getDerivitiveActivationFunction(self.activations[-1]))(z_s[-1]))\n",
    "        # Perform BackPropagation\n",
    "        for i in reversed(range(len(deltas)-1)):\n",
    "            deltas[i] = self.weights[i+1].T.dot(deltas[i+1])*(self.getDerivitiveActivationFunction(self.activations[i])(z_s[i]))        \n",
    "        db = [d.dot(np.ones((batch_size,1))) for d in deltas]\n",
    "        dw = [d.dot(a_s[i].T) for i,d in enumerate(deltas)]\n",
    "        # return the derivitives respect to weight matrix and biases\n",
    "        return dw, db\n",
    "    \n",
    "    def train(self, x, y, batch_size=10, epochs=100, lr = 0.01):\n",
    "        x_temp = np.copy(x)\n",
    "        \n",
    "#         _, a_s = self.feedforward(x)\n",
    "#         plt.scatter(x.flatten(), y.flatten(), marker='.', alpha=0.5)\n",
    "#         plt.scatter(x.flatten(), a_s[-1].flatten(), marker='.', alpha=0.5)\n",
    "#         plt.ion()\n",
    "#         plt.show()\n",
    "#         plt.pause(2)\n",
    "        #plt.close()\n",
    "        \n",
    "        # update weights and biases based on the output\n",
    "        for e in range(epochs):             \n",
    "            np.random.shuffle(x_temp[0])\n",
    "            i=0            \n",
    "            while(i<len(y[0])):\n",
    "                x_batch = x_temp[i:i+batch_size].reshape(1,-1)\n",
    "                y_batch = y_temp[i:i+batch_size].reshape(1,-1)\n",
    "                i = i+batch_size\n",
    "                z_s, a_s = self.feedforward(x_batch)\n",
    "                dw, db = self.backpropagation(y_batch, z_s, a_s)\n",
    "                self.weights = [w-lr*dweight for w,dweight in  zip(self.weights, dw)]\n",
    "                self.biases = [w-lr*dbias for w,dbias in  zip(self.biases, db)]\n",
    "            \n",
    "#             if (e % 10 == 1):\n",
    "#                 _, a_s = self.feedforward(x)\n",
    "#                 plt.scatter(x.flatten(), y.flatten(), marker='.', alpha=0.5)\n",
    "#                 plt.scatter(x.flatten(), a_s[-1].flatten(), marker='.', alpha=0.5)\n",
    "#                 plt.pause(1)\n",
    "#                 plt.close()\n",
    "\n",
    "        print(\"loss = {}\".format(np.linalg.norm(self.feedforward(x)[1][-1]-y) ))\n",
    "        \n",
    "    @staticmethod    \n",
    "    def getActivationFunction(name):\n",
    "        if(name == 'sigmoid'):\n",
    "            return lambda x : np.exp(x)/(1+np.exp(x))\n",
    "        elif(name == 'linear'):\n",
    "            return lambda x : x\n",
    "        elif(name == 'relu'):\n",
    "            def relu(x):\n",
    "                y = np.copy(x)\n",
    "                y[y<0] = 0\n",
    "                return y\n",
    "            return relu\n",
    "        else:\n",
    "            print('Unknown activation function. linear is used')\n",
    "            return lambda x: x\n",
    "    \n",
    "    @staticmethod\n",
    "    def getDerivitiveActivationFunction(name):\n",
    "        if(name == 'sigmoid'):\n",
    "            sig = lambda x : np.exp(x)/(1+np.exp(x))\n",
    "            return lambda x :sig(x)*(1-sig(x)) \n",
    "        elif(name == 'linear'):\n",
    "            return lambda x: 1\n",
    "        elif(name == 'relu'):\n",
    "            def relu_diff(x):\n",
    "                y = np.copy(x)\n",
    "                y[y>=0] = 1\n",
    "                y[y<0] = 0\n",
    "                return y\n",
    "            return relu_diff\n",
    "        else:\n",
    "            print('Unknown activation function. linear is used')\n",
    "            return lambda x: 1\n",
    "\n",
    "if __name__=='__main__':\n",
    "    import matplotlib.pyplot as plt\n",
    "    nn = NeuralNetwork_mit_plot_update([1, 100, 1],activations=['relu', 'linear'])\n",
    "    X = 4.*np.pi*np.random.rand(1000).reshape(1, -1) - 2.*np.pi\n",
    "    y = np.exp(X)\n",
    "    #y = 1/(1+np.exp(-X))    \n",
    "\n",
    "    nn.train(X, y, epochs=20, batch_size=100, lr = .001)\n",
    "    _, a_s = nn.feedforward(X)\n",
    "    plt.scatter(X.flatten(), y.flatten(), marker='.', alpha=0.5)\n",
    "    plt.scatter(X.flatten(), a_s[-1].flatten(), marker='.', alpha=0.5)\n",
    "    plt.show()"
   ]
  },
  {
   "cell_type": "code",
   "execution_count": null,
   "metadata": {},
   "outputs": [],
   "source": []
  }
 ],
 "metadata": {
  "kernelspec": {
   "display_name": "Python 3",
   "language": "python",
   "name": "python3"
  },
  "language_info": {
   "codemirror_mode": {
    "name": "ipython",
    "version": 3
   },
   "file_extension": ".py",
   "mimetype": "text/x-python",
   "name": "python",
   "nbconvert_exporter": "python",
   "pygments_lexer": "ipython3",
   "version": "3.8.8"
  },
  "toc-autonumbering": false,
  "toc-showcode": false,
  "toc-showmarkdowntxt": false
 },
 "nbformat": 4,
 "nbformat_minor": 4
}
